{
 "cells": [
  {
   "cell_type": "markdown",
   "id": "babb3472",
   "metadata": {},
   "source": [
    "# Feature Importance Analysis for Telco Customer Churn\n",
    "\n",
    "This notebook provides a comprehensive analysis of feature importance and influences on customer churn prediction using multiple methodologies including:\n",
    "\n",
    "- Tree-based feature importance\n",
    "- Permutation importance\n",
    "- Correlation analysis\n",
    "- SHAP (SHapley Additive exPlanations) values\n",
    "- Statistical significance testing\n",
    "\n",
    "## Objectives\n",
    "1. Identify the most influential features for predicting customer churn\n",
    "2. Compare different feature importance methods\n",
    "3. Understand feature interactions and dependencies\n",
    "4. Provide actionable insights for business decision-making"
   ]
  },
  {
   "cell_type": "markdown",
   "id": "525cf400",
   "metadata": {},
   "source": [
    "## 1. Import Required Libraries"
   ]
  },
  {
   "cell_type": "code",
   "execution_count": 21,
   "id": "dbcfb9b2",
   "metadata": {},
   "outputs": [
    {
     "name": "stdout",
     "output_type": "stream",
     "text": [
      "Plotly library loaded successfully\n",
      "SHAP library loaded successfully\n",
      "All available libraries imported successfully!\n"
     ]
    }
   ],
   "source": [
    "# Core data manipulation and analysis\n",
    "import pandas as pd\n",
    "import numpy as np\n",
    "from pathlib import Path\n",
    "import warnings\n",
    "warnings.filterwarnings('ignore')\n",
    "\n",
    "# Machine learning libraries\n",
    "from sklearn.model_selection import train_test_split, StratifiedKFold\n",
    "from sklearn.preprocessing import LabelEncoder, StandardScaler, OneHotEncoder\n",
    "from sklearn.compose import ColumnTransformer\n",
    "from sklearn.pipeline import Pipeline\n",
    "from sklearn.ensemble import RandomForestClassifier, GradientBoostingClassifier\n",
    "from sklearn.linear_model import LogisticRegression\n",
    "from sklearn.inspection import permutation_importance\n",
    "from sklearn.metrics import accuracy_score, roc_auc_score, classification_report\n",
    "from sklearn.feature_selection import mutual_info_classif, SelectKBest, f_classif\n",
    "\n",
    "# Visualization libraries\n",
    "import matplotlib.pyplot as plt\n",
    "import seaborn as sns\n",
    "\n",
    "# Try to import plotly, but continue without it if not available\n",
    "try:\n",
    "    import plotly.express as px\n",
    "    import plotly.graph_objects as go\n",
    "    from plotly.subplots import make_subplots\n",
    "    plotly_available = True\n",
    "    print(\"Plotly library loaded successfully\")\n",
    "except ImportError:\n",
    "    plotly_available = False\n",
    "    print(\"Plotly library not available. Using matplotlib/seaborn alternatives.\")\n",
    "    print(\"To install Plotly: pip install plotly\")\n",
    "\n",
    "plt.style.use('seaborn-v0_8')\n",
    "\n",
    "# SHAP for interpretability - optional\n",
    "try:\n",
    "    import shap\n",
    "    shap_available = True\n",
    "    print(\"SHAP library loaded successfully\")\n",
    "except ImportError:\n",
    "    shap_available = False\n",
    "    print(\"SHAP library not available. Skipping SHAP analysis.\")\n",
    "    print(\"To install SHAP: pip install shap\")\n",
    "\n",
    "# Statistical libraries\n",
    "from scipy import stats\n",
    "from scipy.stats import chi2_contingency, pearsonr, spearmanr\n",
    "\n",
    "print(\"All available libraries imported successfully!\")"
   ]
  },
  {
   "cell_type": "markdown",
   "id": "671204e4",
   "metadata": {},
   "source": [
    "## 2. Load and Prepare Dataset"
   ]
  },
  {
   "cell_type": "code",
   "execution_count": 2,
   "id": "58661d3e",
   "metadata": {},
   "outputs": [
    {
     "name": "stdout",
     "output_type": "stream",
     "text": [
      "Dataset shape: (7043, 21)\n",
      "Columns: ['customerid', 'gender', 'seniorcitizen', 'partner', 'dependents', 'tenure', 'phoneservice', 'multiplelines', 'internetservice', 'onlinesecurity', 'onlinebackup', 'deviceprotection', 'techsupport', 'streamingtv', 'streamingmovies', 'contract', 'paperlessbilling', 'paymentmethod', 'monthlycharges', 'totalcharges', 'churn']\n",
      "\n",
      "First few rows:\n"
     ]
    },
    {
     "data": {
      "text/html": [
       "<div>\n",
       "<style scoped>\n",
       "    .dataframe tbody tr th:only-of-type {\n",
       "        vertical-align: middle;\n",
       "    }\n",
       "\n",
       "    .dataframe tbody tr th {\n",
       "        vertical-align: top;\n",
       "    }\n",
       "\n",
       "    .dataframe thead th {\n",
       "        text-align: right;\n",
       "    }\n",
       "</style>\n",
       "<table border=\"1\" class=\"dataframe\">\n",
       "  <thead>\n",
       "    <tr style=\"text-align: right;\">\n",
       "      <th></th>\n",
       "      <th>customerid</th>\n",
       "      <th>gender</th>\n",
       "      <th>seniorcitizen</th>\n",
       "      <th>partner</th>\n",
       "      <th>dependents</th>\n",
       "      <th>tenure</th>\n",
       "      <th>phoneservice</th>\n",
       "      <th>multiplelines</th>\n",
       "      <th>internetservice</th>\n",
       "      <th>onlinesecurity</th>\n",
       "      <th>...</th>\n",
       "      <th>deviceprotection</th>\n",
       "      <th>techsupport</th>\n",
       "      <th>streamingtv</th>\n",
       "      <th>streamingmovies</th>\n",
       "      <th>contract</th>\n",
       "      <th>paperlessbilling</th>\n",
       "      <th>paymentmethod</th>\n",
       "      <th>monthlycharges</th>\n",
       "      <th>totalcharges</th>\n",
       "      <th>churn</th>\n",
       "    </tr>\n",
       "  </thead>\n",
       "  <tbody>\n",
       "    <tr>\n",
       "      <th>0</th>\n",
       "      <td>7590-VHVEG</td>\n",
       "      <td>Female</td>\n",
       "      <td>0</td>\n",
       "      <td>Yes</td>\n",
       "      <td>No</td>\n",
       "      <td>1</td>\n",
       "      <td>No</td>\n",
       "      <td>No phone service</td>\n",
       "      <td>DSL</td>\n",
       "      <td>No</td>\n",
       "      <td>...</td>\n",
       "      <td>No</td>\n",
       "      <td>No</td>\n",
       "      <td>No</td>\n",
       "      <td>No</td>\n",
       "      <td>Month-to-month</td>\n",
       "      <td>Yes</td>\n",
       "      <td>Electronic check</td>\n",
       "      <td>29.85</td>\n",
       "      <td>29.85</td>\n",
       "      <td>No</td>\n",
       "    </tr>\n",
       "    <tr>\n",
       "      <th>1</th>\n",
       "      <td>5575-GNVDE</td>\n",
       "      <td>Male</td>\n",
       "      <td>0</td>\n",
       "      <td>No</td>\n",
       "      <td>No</td>\n",
       "      <td>34</td>\n",
       "      <td>Yes</td>\n",
       "      <td>No</td>\n",
       "      <td>DSL</td>\n",
       "      <td>Yes</td>\n",
       "      <td>...</td>\n",
       "      <td>Yes</td>\n",
       "      <td>No</td>\n",
       "      <td>No</td>\n",
       "      <td>No</td>\n",
       "      <td>One year</td>\n",
       "      <td>No</td>\n",
       "      <td>Mailed check</td>\n",
       "      <td>56.95</td>\n",
       "      <td>1889.50</td>\n",
       "      <td>No</td>\n",
       "    </tr>\n",
       "    <tr>\n",
       "      <th>2</th>\n",
       "      <td>3668-QPYBK</td>\n",
       "      <td>Male</td>\n",
       "      <td>0</td>\n",
       "      <td>No</td>\n",
       "      <td>No</td>\n",
       "      <td>2</td>\n",
       "      <td>Yes</td>\n",
       "      <td>No</td>\n",
       "      <td>DSL</td>\n",
       "      <td>Yes</td>\n",
       "      <td>...</td>\n",
       "      <td>No</td>\n",
       "      <td>No</td>\n",
       "      <td>No</td>\n",
       "      <td>No</td>\n",
       "      <td>Month-to-month</td>\n",
       "      <td>Yes</td>\n",
       "      <td>Mailed check</td>\n",
       "      <td>53.85</td>\n",
       "      <td>108.15</td>\n",
       "      <td>Yes</td>\n",
       "    </tr>\n",
       "    <tr>\n",
       "      <th>3</th>\n",
       "      <td>7795-CFOCW</td>\n",
       "      <td>Male</td>\n",
       "      <td>0</td>\n",
       "      <td>No</td>\n",
       "      <td>No</td>\n",
       "      <td>45</td>\n",
       "      <td>No</td>\n",
       "      <td>No phone service</td>\n",
       "      <td>DSL</td>\n",
       "      <td>Yes</td>\n",
       "      <td>...</td>\n",
       "      <td>Yes</td>\n",
       "      <td>Yes</td>\n",
       "      <td>No</td>\n",
       "      <td>No</td>\n",
       "      <td>One year</td>\n",
       "      <td>No</td>\n",
       "      <td>Bank transfer (automatic)</td>\n",
       "      <td>42.30</td>\n",
       "      <td>1840.75</td>\n",
       "      <td>No</td>\n",
       "    </tr>\n",
       "    <tr>\n",
       "      <th>4</th>\n",
       "      <td>9237-HQITU</td>\n",
       "      <td>Female</td>\n",
       "      <td>0</td>\n",
       "      <td>No</td>\n",
       "      <td>No</td>\n",
       "      <td>2</td>\n",
       "      <td>Yes</td>\n",
       "      <td>No</td>\n",
       "      <td>Fiber optic</td>\n",
       "      <td>No</td>\n",
       "      <td>...</td>\n",
       "      <td>No</td>\n",
       "      <td>No</td>\n",
       "      <td>No</td>\n",
       "      <td>No</td>\n",
       "      <td>Month-to-month</td>\n",
       "      <td>Yes</td>\n",
       "      <td>Electronic check</td>\n",
       "      <td>70.70</td>\n",
       "      <td>151.65</td>\n",
       "      <td>Yes</td>\n",
       "    </tr>\n",
       "  </tbody>\n",
       "</table>\n",
       "<p>5 rows × 21 columns</p>\n",
       "</div>"
      ],
      "text/plain": [
       "   customerid  gender  seniorcitizen partner dependents  tenure phoneservice  \\\n",
       "0  7590-VHVEG  Female              0     Yes         No       1           No   \n",
       "1  5575-GNVDE    Male              0      No         No      34          Yes   \n",
       "2  3668-QPYBK    Male              0      No         No       2          Yes   \n",
       "3  7795-CFOCW    Male              0      No         No      45           No   \n",
       "4  9237-HQITU  Female              0      No         No       2          Yes   \n",
       "\n",
       "      multiplelines internetservice onlinesecurity  ... deviceprotection  \\\n",
       "0  No phone service             DSL             No  ...               No   \n",
       "1                No             DSL            Yes  ...              Yes   \n",
       "2                No             DSL            Yes  ...               No   \n",
       "3  No phone service             DSL            Yes  ...              Yes   \n",
       "4                No     Fiber optic             No  ...               No   \n",
       "\n",
       "  techsupport streamingtv streamingmovies        contract paperlessbilling  \\\n",
       "0          No          No              No  Month-to-month              Yes   \n",
       "1          No          No              No        One year               No   \n",
       "2          No          No              No  Month-to-month              Yes   \n",
       "3         Yes          No              No        One year               No   \n",
       "4          No          No              No  Month-to-month              Yes   \n",
       "\n",
       "               paymentmethod monthlycharges  totalcharges  churn  \n",
       "0           Electronic check          29.85         29.85     No  \n",
       "1               Mailed check          56.95       1889.50     No  \n",
       "2               Mailed check          53.85        108.15    Yes  \n",
       "3  Bank transfer (automatic)          42.30       1840.75     No  \n",
       "4           Electronic check          70.70        151.65    Yes  \n",
       "\n",
       "[5 rows x 21 columns]"
      ]
     },
     "execution_count": 2,
     "metadata": {},
     "output_type": "execute_result"
    }
   ],
   "source": [
    "# Set up paths\n",
    "ROOT = Path(\"..\").resolve()\n",
    "DATA_PATH = ROOT / \"data\"\n",
    "REPORTS_PATH = ROOT / \"reports\"\n",
    "\n",
    "# Load the cleaned dataset\n",
    "df = pd.read_csv(DATA_PATH / \"telco__customer_churn_clean.csv\")\n",
    "\n",
    "print(f\"Dataset shape: {df.shape}\")\n",
    "print(f\"Columns: {list(df.columns)}\")\n",
    "print(\"\\nFirst few rows:\")\n",
    "df.head()"
   ]
  },
  {
   "cell_type": "code",
   "execution_count": 3,
   "id": "9cf2f2c4",
   "metadata": {},
   "outputs": [
    {
     "name": "stdout",
     "output_type": "stream",
     "text": [
      "Churn distribution:\n",
      "churn\n",
      "0    5174\n",
      "1    1869\n",
      "Name: count, dtype: int64\n",
      "Churn rate: 26.54%\n",
      "\n",
      "Feature matrix shape: (7043, 19)\n",
      "Features: ['gender', 'seniorcitizen', 'partner', 'dependents', 'tenure', 'phoneservice', 'multiplelines', 'internetservice', 'onlinesecurity', 'onlinebackup', 'deviceprotection', 'techsupport', 'streamingtv', 'streamingmovies', 'contract', 'paperlessbilling', 'paymentmethod', 'monthlycharges', 'totalcharges']\n",
      "\n",
      "Data types:\n",
      "object     15\n",
      "int64       2\n",
      "float64     2\n",
      "Name: count, dtype: int64\n",
      "\n",
      "Missing values:\n",
      "0\n"
     ]
    }
   ],
   "source": [
    "# Prepare features and target\n",
    "# Convert target to binary (assuming 'Churn' or similar column exists)\n",
    "target_col = 'churn'\n",
    "\"\"\"\n",
    "for col in ['churn', 'Churn', 'churn_flag']:\n",
    "    if col in df.columns:\n",
    "        target_col = col\n",
    "        break\n",
    "\n",
    "if target_col is None:\n",
    "    # If no direct churn column, look for patterns\n",
    "    churn_candidates = [col for col in df.columns if 'churn' in col.lower()]\n",
    "    if churn_candidates:\n",
    "        target_col = churn_candidates[0]\n",
    "    else:\n",
    "        print(\"Warning: No churn column found. Please specify the target column.\")\n",
    "        target_col = df.columns[-1]  # Use last column as fallback\n",
    "\n",
    "print(f\"Using '{target_col}' as target variable\")\n",
    "\"\"\"\n",
    "\n",
    "# Convert target to binary if needed\n",
    "if df[target_col].dtype == 'object':\n",
    "    y = (df[target_col].str.upper() == 'YES').astype(int)\n",
    "else:\n",
    "    y = df[target_col].astype(int)\n",
    "\n",
    "print(f\"Churn distribution:\\n{pd.Series(y).value_counts()}\")\n",
    "print(f\"Churn rate: {y.mean():.2%}\")\n",
    "\n",
    "# Prepare features (exclude ID and target columns)\n",
    "exclude_cols = [target_col, 'customerid', 'CustomerID', 'customer_id', 'ID', 'id']\n",
    "X = df.drop(columns=[col for col in exclude_cols if col in df.columns], errors='ignore')\n",
    "\n",
    "print(f\"\\nFeature matrix shape: {X.shape}\")\n",
    "print(f\"Features: {list(X.columns)}\")\n",
    "\n",
    "# Basic data info\n",
    "print(f\"\\nData types:\")\n",
    "print(X.dtypes.value_counts())\n",
    "print(f\"\\nMissing values:\")\n",
    "print(X.isnull().sum().sum())"
   ]
  },
  {
   "cell_type": "code",
   "execution_count": 4,
   "id": "128e9d79",
   "metadata": {},
   "outputs": [
    {
     "name": "stdout",
     "output_type": "stream",
     "text": [
      "Categorical columns (15): ['gender', 'partner', 'dependents', 'phoneservice', 'multiplelines', 'internetservice', 'onlinesecurity', 'onlinebackup', 'deviceprotection', 'techsupport', 'streamingtv', 'streamingmovies', 'contract', 'paperlessbilling', 'paymentmethod']\n",
      "Numerical columns (4): ['seniorcitizen', 'tenure', 'monthlycharges', 'totalcharges']\n",
      "\n",
      "Train set shape: (5634, 19)\n",
      "Test set shape: (1409, 19)\n"
     ]
    }
   ],
   "source": [
    "# Feature preprocessing\n",
    "def preprocess_features(X):\n",
    "    \"\"\"Preprocess features for model training\"\"\"\n",
    "    X_processed = X.copy()\n",
    "    \n",
    "    # Handle missing values\n",
    "    for col in X_processed.columns:\n",
    "        if X_processed[col].dtype == 'object':\n",
    "            X_processed[col] = X_processed[col].fillna('Unknown')\n",
    "        else:\n",
    "            X_processed[col] = X_processed[col].fillna(X_processed[col].median())\n",
    "    \n",
    "    # Identify categorical and numerical columns\n",
    "    categorical_cols = X_processed.select_dtypes(include=['object']).columns.tolist()\n",
    "    numerical_cols = X_processed.select_dtypes(exclude=['object']).columns.tolist()\n",
    "    \n",
    "    return X_processed, categorical_cols, numerical_cols\n",
    "\n",
    "X_processed, categorical_cols, numerical_cols = preprocess_features(X)\n",
    "\n",
    "print(f\"Categorical columns ({len(categorical_cols)}): {categorical_cols}\")\n",
    "print(f\"Numerical columns ({len(numerical_cols)}): {numerical_cols}\")\n",
    "\n",
    "# Split the data\n",
    "X_train, X_test, y_train, y_test = train_test_split(\n",
    "    X_processed, y, test_size=0.2, random_state=42, stratify=y\n",
    ")\n",
    "\n",
    "print(f\"\\nTrain set shape: {X_train.shape}\")\n",
    "print(f\"Test set shape: {X_test.shape}\")"
   ]
  },
  {
   "cell_type": "markdown",
   "id": "3ff84bf4",
   "metadata": {},
   "source": [
    "## 3. Calculate Feature Importance using Tree-based Methods"
   ]
  },
  {
   "cell_type": "code",
   "execution_count": 5,
   "id": "13499c61",
   "metadata": {},
   "outputs": [
    {
     "name": "stdout",
     "output_type": "stream",
     "text": [
      "Total features after preprocessing: 30\n",
      "\n",
      "Training Random Forest...\n",
      "Random Forest - Train Accuracy: 0.998, Test Accuracy: 0.786\n",
      "\n",
      "Training Gradient Boosting...\n",
      "Random Forest - Train Accuracy: 0.998, Test Accuracy: 0.786\n",
      "\n",
      "Training Gradient Boosting...\n",
      "Gradient Boosting - Train Accuracy: 0.827, Test Accuracy: 0.798\n",
      "\n",
      "Top 10 Features by Tree-based Importance:\n",
      "\n",
      "Random Forest:\n",
      "totalcharges                      0.192096\n",
      "tenure                            0.174733\n",
      "monthlycharges                    0.168413\n",
      "paymentmethod_Electronic check    0.038771\n",
      "internetservice_Fiber optic       0.038641\n",
      "contract_Two year                 0.030176\n",
      "gender_Male                       0.028321\n",
      "onlinesecurity_Yes                0.028191\n",
      "paperlessbilling_Yes              0.025617\n",
      "partner_Yes                       0.023326\n",
      "\n",
      "Gradient Boosting:\n",
      "tenure                            0.291531\n",
      "internetservice_Fiber optic       0.192732\n",
      "paymentmethod_Electronic check    0.125032\n",
      "contract_Two year                 0.074660\n",
      "totalcharges                      0.069754\n",
      "contract_One year                 0.059233\n",
      "monthlycharges                    0.055417\n",
      "paperlessbilling_Yes              0.023136\n",
      "onlinesecurity_Yes                0.015338\n",
      "techsupport_Yes                   0.011876\n",
      "Gradient Boosting - Train Accuracy: 0.827, Test Accuracy: 0.798\n",
      "\n",
      "Top 10 Features by Tree-based Importance:\n",
      "\n",
      "Random Forest:\n",
      "totalcharges                      0.192096\n",
      "tenure                            0.174733\n",
      "monthlycharges                    0.168413\n",
      "paymentmethod_Electronic check    0.038771\n",
      "internetservice_Fiber optic       0.038641\n",
      "contract_Two year                 0.030176\n",
      "gender_Male                       0.028321\n",
      "onlinesecurity_Yes                0.028191\n",
      "paperlessbilling_Yes              0.025617\n",
      "partner_Yes                       0.023326\n",
      "\n",
      "Gradient Boosting:\n",
      "tenure                            0.291531\n",
      "internetservice_Fiber optic       0.192732\n",
      "paymentmethod_Electronic check    0.125032\n",
      "contract_Two year                 0.074660\n",
      "totalcharges                      0.069754\n",
      "contract_One year                 0.059233\n",
      "monthlycharges                    0.055417\n",
      "paperlessbilling_Yes              0.023136\n",
      "onlinesecurity_Yes                0.015338\n",
      "techsupport_Yes                   0.011876\n"
     ]
    }
   ],
   "source": [
    "# Create preprocessing pipeline\n",
    "preprocessor = ColumnTransformer(\n",
    "    transformers=[\n",
    "        ('num', StandardScaler(), numerical_cols),\n",
    "        ('cat', OneHotEncoder(drop='first', handle_unknown='ignore'), categorical_cols)\n",
    "    ]\n",
    ")\n",
    "\n",
    "# Fit preprocessor and transform data\n",
    "X_train_processed = preprocessor.fit_transform(X_train)\n",
    "X_test_processed = preprocessor.transform(X_test)\n",
    "\n",
    "# Get feature names after preprocessing\n",
    "feature_names = (numerical_cols + \n",
    "                list(preprocessor.named_transformers_['cat'].get_feature_names_out(categorical_cols)))\n",
    "\n",
    "print(f\"Total features after preprocessing: {len(feature_names)}\")\n",
    "\n",
    "# Train tree-based models\n",
    "models = {\n",
    "    'Random Forest': RandomForestClassifier(n_estimators=100, random_state=42, n_jobs=-1),\n",
    "    'Gradient Boosting': GradientBoostingClassifier(n_estimators=100, random_state=42)\n",
    "}\n",
    "\n",
    "tree_importance = {}\n",
    "\n",
    "for name, model in models.items():\n",
    "    print(f\"\\nTraining {name}...\")\n",
    "    model.fit(X_train_processed, y_train)\n",
    "    \n",
    "    # Get feature importance\n",
    "    importance = model.feature_importances_\n",
    "    tree_importance[name] = pd.Series(importance, index=feature_names).sort_values(ascending=False)\n",
    "    \n",
    "    # Model performance\n",
    "    train_score = model.score(X_train_processed, y_train)\n",
    "    test_score = model.score(X_test_processed, y_test)\n",
    "    print(f\"{name} - Train Accuracy: {train_score:.3f}, Test Accuracy: {test_score:.3f}\")\n",
    "\n",
    "# Display top features from each model\n",
    "print(\"\\nTop 10 Features by Tree-based Importance:\")\n",
    "for name, importance in tree_importance.items():\n",
    "    print(f\"\\n{name}:\")\n",
    "    print(importance.head(10).to_string())"
   ]
  },
  {
   "cell_type": "markdown",
   "id": "7f83e224",
   "metadata": {},
   "source": [
    "## 4. Calculate Permutation Feature Importance"
   ]
  },
  {
   "cell_type": "code",
   "execution_count": 6,
   "id": "46499ccd",
   "metadata": {},
   "outputs": [
    {
     "name": "stdout",
     "output_type": "stream",
     "text": [
      "Calculating permutation importance for Random Forest...\n",
      "Completed for Random Forest\n",
      "Calculating permutation importance for Gradient Boosting...\n",
      "Completed for Gradient Boosting\n",
      "\n",
      "Top 10 Features by Permutation Importance:\n",
      "\n",
      "Random Forest:\n",
      "tenure                                  0.021859\n",
      "internetservice_Fiber optic             0.007310\n",
      "seniorcitizen                           0.006104\n",
      "totalcharges                            0.005607\n",
      "contract_Two year                       0.002981\n",
      "partner_Yes                             0.001703\n",
      "deviceprotection_No internet service    0.001207\n",
      "onlinesecurity_Yes                      0.000994\n",
      "techsupport_No internet service         0.000994\n",
      "onlinebackup_No internet service        0.000568\n",
      "\n",
      "Gradient Boosting:\n",
      "tenure                            0.049468\n",
      "monthlycharges                    0.021930\n",
      "internetservice_Fiber optic       0.015188\n",
      "contract_Two year                 0.008801\n",
      "techsupport_Yes                   0.008375\n",
      "paymentmethod_Electronic check    0.006246\n",
      "totalcharges                      0.005678\n",
      "contract_One year                 0.005536\n",
      "multiplelines_Yes                 0.004187\n",
      "paperlessbilling_Yes              0.003691\n",
      "Completed for Random Forest\n",
      "Calculating permutation importance for Gradient Boosting...\n",
      "Completed for Gradient Boosting\n",
      "\n",
      "Top 10 Features by Permutation Importance:\n",
      "\n",
      "Random Forest:\n",
      "tenure                                  0.021859\n",
      "internetservice_Fiber optic             0.007310\n",
      "seniorcitizen                           0.006104\n",
      "totalcharges                            0.005607\n",
      "contract_Two year                       0.002981\n",
      "partner_Yes                             0.001703\n",
      "deviceprotection_No internet service    0.001207\n",
      "onlinesecurity_Yes                      0.000994\n",
      "techsupport_No internet service         0.000994\n",
      "onlinebackup_No internet service        0.000568\n",
      "\n",
      "Gradient Boosting:\n",
      "tenure                            0.049468\n",
      "monthlycharges                    0.021930\n",
      "internetservice_Fiber optic       0.015188\n",
      "contract_Two year                 0.008801\n",
      "techsupport_Yes                   0.008375\n",
      "paymentmethod_Electronic check    0.006246\n",
      "totalcharges                      0.005678\n",
      "contract_One year                 0.005536\n",
      "multiplelines_Yes                 0.004187\n",
      "paperlessbilling_Yes              0.003691\n"
     ]
    }
   ],
   "source": [
    "# Calculate permutation importance for each model\n",
    "perm_importance = {}\n",
    "\n",
    "for name, model in models.items():\n",
    "    print(f\"Calculating permutation importance for {name}...\")\n",
    "    \n",
    "    # Calculate permutation importance\n",
    "    perm_result = permutation_importance(\n",
    "        model, X_test_processed, y_test, \n",
    "        n_repeats=10, random_state=42, scoring='accuracy', n_jobs=-1\n",
    "    )\n",
    "    \n",
    "    # Store results\n",
    "    perm_importance[name] = pd.Series(\n",
    "        perm_result.importances_mean, \n",
    "        index=feature_names\n",
    "    ).sort_values(ascending=False)\n",
    "    \n",
    "    print(f\"Completed for {name}\")\n",
    "\n",
    "# Display top features from permutation importance\n",
    "print(\"\\nTop 10 Features by Permutation Importance:\")\n",
    "for name, importance in perm_importance.items():\n",
    "    print(f\"\\n{name}:\")\n",
    "    print(importance.head(10).to_string())"
   ]
  },
  {
   "cell_type": "markdown",
   "id": "32b8ef4d",
   "metadata": {},
   "source": [
    "## 5. Calculate Correlation-based Feature Importance"
   ]
  },
  {
   "cell_type": "code",
   "execution_count": 7,
   "id": "49a00c67",
   "metadata": {},
   "outputs": [
    {
     "name": "stdout",
     "output_type": "stream",
     "text": [
      "Calculating Mutual Information...\n",
      "Calculating F-statistic scores...\n",
      "Calculating direct correlations for numerical features...\n",
      "\n",
      "Top 10 Features by Correlation-based Importance:\n",
      "\n",
      "Mutual Information:\n",
      "tenure                                  0.069149\n",
      "contract_Two year                       0.058596\n",
      "monthlycharges                          0.048470\n",
      "paymentmethod_Electronic check          0.044712\n",
      "internetservice_Fiber optic             0.043803\n",
      "streamingtv_No internet service         0.040705\n",
      "totalcharges                            0.038991\n",
      "streamingmovies_No internet service     0.038142\n",
      "techsupport_No internet service         0.036675\n",
      "deviceprotection_No internet service    0.033925\n",
      "\n",
      "F-statistic:\n",
      "tenure                                  763.890183\n",
      "internetservice_Fiber optic             610.199922\n",
      "paymentmethod_Electronic check          595.424491\n",
      "contract_Two year                       566.070664\n",
      "internetservice_No                      311.490238\n",
      "onlinesecurity_No internet service      311.490238\n",
      "deviceprotection_No internet service    311.490238\n",
      "techsupport_No internet service         311.490238\n",
      "streamingmovies_No internet service     311.490238\n",
      "streamingtv_No internet service         311.490238\n",
      "\n",
      "Direct Correlation:\n",
      "tenure            0.345593\n",
      "monthlycharges    0.198040\n",
      "totalcharges      0.194403\n",
      "seniorcitizen     0.145599\n",
      "Calculating F-statistic scores...\n",
      "Calculating direct correlations for numerical features...\n",
      "\n",
      "Top 10 Features by Correlation-based Importance:\n",
      "\n",
      "Mutual Information:\n",
      "tenure                                  0.069149\n",
      "contract_Two year                       0.058596\n",
      "monthlycharges                          0.048470\n",
      "paymentmethod_Electronic check          0.044712\n",
      "internetservice_Fiber optic             0.043803\n",
      "streamingtv_No internet service         0.040705\n",
      "totalcharges                            0.038991\n",
      "streamingmovies_No internet service     0.038142\n",
      "techsupport_No internet service         0.036675\n",
      "deviceprotection_No internet service    0.033925\n",
      "\n",
      "F-statistic:\n",
      "tenure                                  763.890183\n",
      "internetservice_Fiber optic             610.199922\n",
      "paymentmethod_Electronic check          595.424491\n",
      "contract_Two year                       566.070664\n",
      "internetservice_No                      311.490238\n",
      "onlinesecurity_No internet service      311.490238\n",
      "deviceprotection_No internet service    311.490238\n",
      "techsupport_No internet service         311.490238\n",
      "streamingmovies_No internet service     311.490238\n",
      "streamingtv_No internet service         311.490238\n",
      "\n",
      "Direct Correlation:\n",
      "tenure            0.345593\n",
      "monthlycharges    0.198040\n",
      "totalcharges      0.194403\n",
      "seniorcitizen     0.145599\n"
     ]
    }
   ],
   "source": [
    "# Calculate correlation-based importance\n",
    "correlation_importance = {}\n",
    "\n",
    "# Mutual Information\n",
    "print(\"Calculating Mutual Information...\")\n",
    "mi_scores = mutual_info_classif(X_train_processed, y_train, random_state=42)\n",
    "correlation_importance['Mutual Information'] = pd.Series(\n",
    "    mi_scores, index=feature_names\n",
    ").sort_values(ascending=False)\n",
    "\n",
    "# Chi-square test for categorical features (using F-test as approximation)\n",
    "print(\"Calculating F-statistic scores...\")\n",
    "f_scores, _ = f_classif(X_train_processed, y_train)\n",
    "correlation_importance['F-statistic'] = pd.Series(\n",
    "    f_scores, index=feature_names\n",
    ").sort_values(ascending=False)\n",
    "\n",
    "# For original numerical features, calculate direct correlation with target\n",
    "print(\"Calculating direct correlations for numerical features...\")\n",
    "direct_correlations = {}\n",
    "for col in numerical_cols:\n",
    "    if col in X_train.columns:\n",
    "        corr, _ = pearsonr(X_train[col], y_train)\n",
    "        direct_correlations[col] = abs(corr)\n",
    "\n",
    "if direct_correlations:\n",
    "    correlation_importance['Direct Correlation'] = pd.Series(direct_correlations).sort_values(ascending=False)\n",
    "\n",
    "# Display results\n",
    "print(\"\\nTop 10 Features by Correlation-based Importance:\")\n",
    "for name, importance in correlation_importance.items():\n",
    "    print(f\"\\n{name}:\")\n",
    "    print(importance.head(10).to_string())"
   ]
  },
  {
   "cell_type": "markdown",
   "id": "3d70cff7",
   "metadata": {},
   "source": [
    "## 6. SHAP Analysis for Feature Influences"
   ]
  },
  {
   "cell_type": "code",
   "execution_count": null,
   "id": "21cc7bf7",
   "metadata": {},
   "outputs": [
    {
     "name": "stdout",
     "output_type": "stream",
     "text": [
      "Calculating SHAP values...\n",
      "Sample shape for SHAP: (200, 30)\n",
      "SHAP values shape: (200, 30, 2)\n",
      "SHAP analysis failed with error: Data must be 1-dimensional, got ndarray of shape (30, 2) instead\n",
      "Error type: ValueError\n",
      "Continuing analysis without SHAP values...\n",
      "X_test_processed type: <class 'numpy.ndarray'>\n",
      "X_test_processed shape: (1409, 30)\n",
      "SHAP values shape: (200, 30, 2)\n",
      "SHAP analysis failed with error: Data must be 1-dimensional, got ndarray of shape (30, 2) instead\n",
      "Error type: ValueError\n",
      "Continuing analysis without SHAP values...\n",
      "X_test_processed type: <class 'numpy.ndarray'>\n",
      "X_test_processed shape: (1409, 30)\n"
     ]
    }
   ],
   "source": [
    "# SHAP Analysis (only if available)\n",
    "shap_values = {}\n",
    "shap_importance = {}\n",
    "\n",
    "if shap_available:\n",
    "    try:\n",
    "        # Use Random Forest for SHAP analysis (most stable)\n",
    "        rf_model = models['Random Forest']\n",
    "        \n",
    "        print(\"Calculating SHAP values...\")\n",
    "        # Use a sample for faster computation\n",
    "        sample_size = min(200, len(X_test_processed))  # Smaller sample for stability\n",
    "        sample_idx = np.random.choice(len(X_test_processed), sample_size, replace=False)\n",
    "        \n",
    "        # Convert to dense array if sparse and ensure proper format\n",
    "        if hasattr(X_test_processed, 'toarray'):\n",
    "            X_sample = X_test_processed[sample_idx].toarray()\n",
    "        else:\n",
    "            X_sample = X_test_processed[sample_idx]\n",
    "        \n",
    "        # Ensure X_sample is 2D\n",
    "        if X_sample.ndim == 1:\n",
    "            X_sample = X_sample.reshape(1, -1)\n",
    "        \n",
    "        print(f\"Sample shape for SHAP: {X_sample.shape}\")\n",
    "        \n",
    "        # Create SHAP explainer with error handling\n",
    "        explainer = shap.TreeExplainer(rf_model)\n",
    "        \n",
    "        # Calculate SHAP values with additional error handling\n",
    "        shap_values_rf = explainer.shap_values(X_sample)\n",
    "        \n",
    "        print(f\"Raw SHAP values type: {type(shap_values_rf)}\")\n",
    "        if isinstance(shap_values_rf, list):\n",
    "            print(f\"SHAP values list length: {len(shap_values_rf)}\")\n",
    "            for i, sv in enumerate(shap_values_rf):\n",
    "                print(f\"SHAP values[{i}] shape: {sv.shape}\")\n",
    "        else:\n",
    "            print(f\"SHAP values shape: {shap_values_rf.shape}\")\n",
    "        \n",
    "        # Handle different SHAP output formats\n",
    "        if isinstance(shap_values_rf, list):\n",
    "            # Multi-class case - use class 1 (churn) values\n",
    "            if len(shap_values_rf) > 1:\n",
    "                shap_values_rf = shap_values_rf[1]  # Class 1 (churn)\n",
    "            else:\n",
    "                shap_values_rf = shap_values_rf[0]\n",
    "        elif shap_values_rf.ndim == 3:\n",
    "            # 3D array: (samples, features, classes) - take class 1\n",
    "            print(f\"3D SHAP array detected: {shap_values_rf.shape}\")\n",
    "            shap_values_rf = shap_values_rf[:, :, 1]  # Take churn class\n",
    "        \n",
    "        # Ensure proper 2D shape: (samples, features)\n",
    "        if shap_values_rf.ndim == 1:\n",
    "            shap_values_rf = shap_values_rf.reshape(1, -1)\n",
    "        \n",
    "        print(f\"Final SHAP values shape: {shap_values_rf.shape}\")\n",
    "        \n",
    "        # Validate dimensions match\n",
    "        if shap_values_rf.shape[1] != len(feature_names):\n",
    "            print(f\"Warning: SHAP features ({shap_values_rf.shape[1]}) != feature names ({len(feature_names)})\")\n",
    "            # Use the minimum to avoid index errors\n",
    "            n_features = min(shap_values_rf.shape[1], len(feature_names))\n",
    "            shap_values_rf = shap_values_rf[:, :n_features]\n",
    "            feature_names_subset = feature_names[:n_features]\n",
    "        else:\n",
    "            feature_names_subset = feature_names\n",
    "        \n",
    "        shap_values['Random Forest'] = shap_values_rf\n",
    "        \n",
    "        # Calculate mean absolute SHAP values for feature importance\n",
    "        mean_abs_shap = np.abs(shap_values_rf).mean(axis=0)\n",
    "        print(f\"Mean absolute SHAP shape: {mean_abs_shap.shape}\")\n",
    "        \n",
    "        shap_importance['Random Forest'] = pd.Series(\n",
    "            mean_abs_shap,\n",
    "            index=feature_names_subset\n",
    "        ).sort_values(ascending=False)\n",
    "        \n",
    "        print(\"SHAP analysis completed successfully!\")\n",
    "        print(\"\\nTop 10 Features by SHAP Importance:\")\n",
    "        print(shap_importance['Random Forest'].head(10).to_string())\n",
    "        \n",
    "    except Exception as e:\n",
    "        print(f\"SHAP analysis failed with error: {e}\")\n",
    "        print(f\"Error type: {type(e).__name__}\")\n",
    "        print(\"Continuing analysis without SHAP values...\")\n",
    "        shap_available = False\n",
    "        \n",
    "        # Additional debugging info\n",
    "        try:\n",
    "            print(f\"X_test_processed type: {type(X_test_processed)}\")\n",
    "            print(f\"X_test_processed shape: {X_test_processed.shape}\")\n",
    "            if hasattr(X_test_processed, 'toarray'):\n",
    "                print(\"Data is sparse, converting to dense...\")\n",
    "            if 'shap_values_rf' in locals():\n",
    "                print(f\"SHAP values shape: {shap_values_rf.shape}\")\n",
    "        except:\n",
    "            pass\n",
    "        \n",
    "else:\n",
    "    print(\"SHAP library not available. Skipping SHAP analysis.\")\n",
    "    print(\"To install SHAP: pip install shap\")\n",
    "    print(\"Alternative: Use tree-based and permutation importance for feature analysis.\")"
   ]
  },
  {
   "cell_type": "markdown",
   "id": "69ac5636",
   "metadata": {},
   "source": [
    "## 7. Visualize Feature Importance Rankings"
   ]
  },
  {
   "cell_type": "code",
   "execution_count": 9,
   "id": "65178f39",
   "metadata": {},
   "outputs": [
    {
     "data": {
      "image/png": "[encoded data removed]",
      "text/plain": [
       "<Figure size 2000x1200 with 6 Axes>"
      ]
     },
     "metadata": {},
     "output_type": "display_data"
    }
   ],
   "source": [
    "# Combine all importance scores for visualization\n",
    "all_importance = {}\n",
    "all_importance.update(tree_importance)\n",
    "all_importance.update(perm_importance)\n",
    "all_importance.update(correlation_importance)\n",
    "if shap_available:\n",
    "    all_importance.update(shap_importance)\n",
    "\n",
    "# Create comprehensive comparison plot\n",
    "def plot_feature_importance_comparison(importance_dict, top_n=15):\n",
    "    # Get top N features from each method\n",
    "    top_features = set()\n",
    "    for method_importance in importance_dict.values():\n",
    "        top_features.update(method_importance.head(top_n).index)\n",
    "    \n",
    "    # Create DataFrame for plotting\n",
    "    plot_data = []\n",
    "    for method, importance in importance_dict.items():\n",
    "        for feature in top_features:\n",
    "            if feature in importance.index:\n",
    "                plot_data.append({\n",
    "                    'Method': method,\n",
    "                    'Feature': feature,\n",
    "                    'Importance': importance[feature],\n",
    "                    'Rank': list(importance.index).index(feature) + 1\n",
    "                })\n",
    "    \n",
    "    df_plot = pd.DataFrame(plot_data)\n",
    "    \n",
    "    # Create subplots for different methods\n",
    "    methods = list(importance_dict.keys())\n",
    "    n_methods = len(methods)\n",
    "    \n",
    "    fig, axes = plt.subplots(2, (n_methods + 1) // 2, figsize=(20, 12))\n",
    "    axes = axes.ravel() if n_methods > 1 else [axes]\n",
    "    \n",
    "    for i, method in enumerate(methods):\n",
    "        method_data = df_plot[df_plot['Method'] == method].head(top_n)\n",
    "        \n",
    "        ax = axes[i]\n",
    "        bars = ax.barh(range(len(method_data)), method_data['Importance'])\n",
    "        ax.set_yticks(range(len(method_data)))\n",
    "        ax.set_yticklabels(method_data['Feature'], fontsize=10)\n",
    "        ax.set_xlabel('Importance Score')\n",
    "        ax.set_title(f'{method} - Top {top_n} Features')\n",
    "        ax.invert_yaxis()\n",
    "        \n",
    "        # Add value labels on bars\n",
    "        for j, bar in enumerate(bars):\n",
    "            width = bar.get_width()\n",
    "            ax.text(width, bar.get_y() + bar.get_height()/2, \n",
    "                   f'{width:.3f}', ha='left', va='center', fontsize=8)\n",
    "    \n",
    "    # Hide unused subplots\n",
    "    for i in range(n_methods, len(axes)):\n",
    "        axes[i].set_visible(False)\n",
    "    \n",
    "    plt.tight_layout()\n",
    "    plt.show()\n",
    "\n",
    "# Plot comparison\n",
    "plot_feature_importance_comparison(all_importance, top_n=12)"
   ]
  },
  {
   "cell_type": "markdown",
   "id": "a9394711",
   "metadata": {},
   "source": [
    "## 8. Create Feature Importance Comparison Charts"
   ]
  },
  {
   "cell_type": "code",
   "execution_count": 10,
   "id": "15136fed",
   "metadata": {},
   "outputs": [
    {
     "data": {
      "image/png": "[encoded data removed]",
      "text/plain": [
       "<Figure size 1500x800 with 2 Axes>"
      ]
     },
     "metadata": {},
     "output_type": "display_data"
    }
   ],
   "source": [
    "# Create heatmap comparison of feature importance rankings\n",
    "def create_importance_heatmap(importance_dict, top_n=20):\n",
    "    # Get top N features from each method and create ranking matrix\n",
    "    all_features = set()\n",
    "    for importance in importance_dict.values():\n",
    "        all_features.update(importance.head(top_n).index)\n",
    "    \n",
    "    ranking_matrix = []\n",
    "    method_names = []\n",
    "    \n",
    "    for method, importance in importance_dict.items():\n",
    "        method_names.append(method)\n",
    "        rankings = []\n",
    "        for feature in sorted(all_features):\n",
    "            if feature in importance.index:\n",
    "                rank = list(importance.index).index(feature) + 1\n",
    "                rankings.append(rank if rank <= top_n else np.nan)\n",
    "            else:\n",
    "                rankings.append(np.nan)\n",
    "        ranking_matrix.append(rankings)\n",
    "    \n",
    "    # Create heatmap\n",
    "    fig, ax = plt.subplots(figsize=(15, 8))\n",
    "    \n",
    "    ranking_df = pd.DataFrame(ranking_matrix, \n",
    "                             index=method_names, \n",
    "                             columns=sorted(all_features))\n",
    "    \n",
    "    # Only show features that appear in top rankings for at least one method\n",
    "    valid_features = ranking_df.columns[ranking_df.notna().any()][:top_n]\n",
    "    ranking_df_filtered = ranking_df[valid_features]\n",
    "    \n",
    "    sns.heatmap(ranking_df_filtered, annot=True, fmt='.0f', cmap='RdYlBu_r', \n",
    "                cbar_kws={'label': 'Feature Rank'}, ax=ax)\n",
    "    ax.set_title('Feature Importance Rankings Across Methods')\n",
    "    ax.set_xlabel('Features')\n",
    "    ax.set_ylabel('Methods')\n",
    "    plt.xticks(rotation=45, ha='right')\n",
    "    plt.tight_layout()\n",
    "    plt.show()\n",
    "\n",
    "create_importance_heatmap(all_importance, top_n=15)"
   ]
  },
  {
   "cell_type": "code",
   "execution_count": 11,
   "id": "955d17c9",
   "metadata": {},
   "outputs": [
    {
     "data": {
      "application/vnd.plotly.v1+json": {
       "config": {
        "plotlyServerURL": "https://plot.ly"
       },
       "data": [
        {
         "alignmentgroup": "True",
         "hovertemplate": "Method=Random Forest<br>Feature=%{x}<br>Importance=%{y}<extra></extra>",
         "legendgroup": "Random Forest",
         "marker": {
          "color": "#636efa",
          "pattern": {
           "shape": ""
          }
         },
         "name": "Random Forest",
         "offsetgroup": "Random Forest",
         "orientation": "v",
         "showlegend": true,
         "textposition": "auto",
         "type": "bar",
         "x": [
          "tenure",
          "internetservice_Fiber optic",
          "seniorcitizen",
          "totalcharges",
          "contract_Two year",
          "partner_Yes",
          "deviceprotection_No internet service",
          "onlinesecurity_Yes",
          "techsupport_No internet service",
          "onlinebackup_No internet service",
          "paymentmethod_Electronic check",
          "internetservice_No"
         ],
         "xaxis": "x",
         "y": {
          "bdata": "YO6ThVRilj/zDAUxP/F9P5rHTugbAHk/WskSfyv3dj9m7M/uRGtoPwAOycdO6Fs/ZhTZIo3EUz/N8t9Jg0dQP2by30mDR1A/AF7bL9+aQj9m8t9Jg0dAPwA00vuWQTc/",
          "dtype": "f8"
         },
         "yaxis": "y"
        },
        {
         "alignmentgroup": "True",
         "hovertemplate": "Method=Gradient Boosting<br>Feature=%{x}<br>Importance=%{y}<extra></extra>",
         "legendgroup": "Gradient Boosting",
         "marker": {
          "color": "#EF553B",
          "pattern": {
           "shape": ""
          }
         },
         "name": "Gradient Boosting",
         "offsetgroup": "Gradient Boosting",
         "orientation": "v",
         "showlegend": true,
         "textposition": "auto",
         "type": "bar",
         "x": [
          "tenure",
          "monthlycharges",
          "internetservice_Fiber optic",
          "contract_Two year",
          "techsupport_Yes",
          "paymentmethod_Electronic check",
          "totalcharges",
          "contract_One year",
          "multiplelines_Yes",
          "paperlessbilling_Yes",
          "onlinesecurity_Yes",
          "seniorcitizen"
         ],
         "xaxis": "x",
         "y": {
          "bdata": "8yKm1NRTqT/DycNk73SWP+3CAiTtGo8/BoRcNggGgj+mOx7AxSaBP8CizeHylHk/szbS+5ZBdz/AW1MCwKx2P5o7HsDFJnE/TXrErao7bj+AW1MCwKxmPzMOycdO6Fs/",
          "dtype": "f8"
         },
         "yaxis": "y"
        },
        {
         "alignmentgroup": "True",
         "hovertemplate": "Method=Mutual Information<br>Feature=%{x}<br>Importance=%{y}<extra></extra>",
         "legendgroup": "Mutual Information",
         "marker": {
          "color": "#00cc96",
          "pattern": {
           "shape": ""
          }
         },
         "name": "Mutual Information",
         "offsetgroup": "Mutual Information",
         "orientation": "v",
         "showlegend": true,
         "textposition": "auto",
         "type": "bar",
         "x": [
          "tenure",
          "contract_Two year",
          "monthlycharges",
          "paymentmethod_Electronic check",
          "internetservice_Fiber optic",
          "streamingtv_No internet service",
          "totalcharges",
          "streamingmovies_No internet service",
          "techsupport_No internet service",
          "deviceprotection_No internet service",
          "onlinesecurity_No internet service",
          "onlinebackup_No internet service"
         ],
         "xaxis": "x",
         "y": {
          "bdata": "QMesy7+zsT8ALivdUQCuPyBFmd0F0ag/IEg7Honkpj/AGRIOZ22mP6Cxm3s816Q/IA+r0a/2oz/AOQGKXoejP+B5ZFcLx6I/4MRJz45eoT/A59eiHZOgP0B7JWx+t58/",
          "dtype": "f8"
         },
         "yaxis": "y"
        },
        {
         "alignmentgroup": "True",
         "hovertemplate": "Method=F-statistic<br>Feature=%{x}<br>Importance=%{y}<extra></extra>",
         "legendgroup": "F-statistic",
         "marker": {
          "color": "#ab63fa",
          "pattern": {
           "shape": ""
          }
         },
         "name": "F-statistic",
         "offsetgroup": "F-statistic",
         "orientation": "v",
         "showlegend": true,
         "textposition": "auto",
         "type": "bar",
         "x": [
          "tenure",
          "internetservice_Fiber optic",
          "paymentmethod_Electronic check",
          "contract_Two year",
          "internetservice_No",
          "onlinesecurity_No internet service",
          "deviceprotection_No internet service",
          "techsupport_No internet service",
          "streamingmovies_No internet service",
          "streamingtv_No internet service",
          "onlinebackup_No internet service",
          "monthlycharges"
         ],
         "xaxis": "x",
         "y": {
          "bdata": "4NQLGB/fh0DRdL1wmRGDQLFYTVtlm4JADFJNuJCwgUCP+foD2HdzQI/5+gPYd3NAj/n6A9h3c0CP+foD2HdzQI/5+gPYd3NAj/n6A9h3c0CP+foD2HdzQJ/5iR3svGxA",
          "dtype": "f8"
         },
         "yaxis": "y"
        },
        {
         "alignmentgroup": "True",
         "hovertemplate": "Method=Direct Correlation<br>Feature=%{x}<br>Importance=%{y}<extra></extra>",
         "legendgroup": "Direct Correlation",
         "marker": {
          "color": "#FFA15A",
          "pattern": {
           "shape": ""
          }
         },
         "name": "Direct Correlation",
         "offsetgroup": "Direct Correlation",
         "orientation": "v",
         "showlegend": true,
         "textposition": "auto",
         "type": "bar",
         "x": [
          "tenure",
          "monthlycharges",
          "totalcharges",
          "seniorcitizen"
         ],
         "xaxis": "x",
         "y": {
          "bdata": "abACMjIe1j9Ojp4eY1nJP5RxFRsz4sg/sm8c7/+iwj8=",
          "dtype": "f8"
         },
         "yaxis": "y"
        }
       ],
       "layout": {
        "barmode": "group",
        "height": 600,
        "legend": {
         "title": {
          "text": "Method"
         },
         "tracegroupgap": 0
        },
        "template": {
         "data": {
          "bar": [
           {
            "error_x": {
             "color": "#2a3f5f"
            },
            "error_y": {
             "color": "#2a3f5f"
            },
            "marker": {
             "line": {
              "color": "#E5ECF6",
              "width": 0.5
             },
             "pattern": {
              "fillmode": "overlay",
              "size": 10,
              "solidity": 0.2
             }
            },
            "type": "bar"
           }
          ],
          "barpolar": [
           {
            "marker": {
             "line": {
              "color": "#E5ECF6",
              "width": 0.5
             },
             "pattern": {
              "fillmode": "overlay",
              "size": 10,
              "solidity": 0.2
             }
            },
            "type": "barpolar"
           }
          ],
          "carpet": [
           {
            "aaxis": {
             "endlinecolor": "#2a3f5f",
             "gridcolor": "white",
             "linecolor": "white",
             "minorgridcolor": "white",
             "startlinecolor": "#2a3f5f"
            },
            "baxis": {
             "endlinecolor": "#2a3f5f",
             "gridcolor": "white",
             "linecolor": "white",
             "minorgridcolor": "white",
             "startlinecolor": "#2a3f5f"
            },
            "type": "carpet"
           }
          ],
          "choropleth": [
           {
            "colorbar": {
             "outlinewidth": 0,
             "ticks": ""
            },
            "type": "choropleth"
           }
          ],
          "contour": [
           {
            "colorbar": {
             "outlinewidth": 0,
             "ticks": ""
            },
            "colorscale": [
             [
              0,
              "#0d0887"
             ],
             [
              0.1111111111111111,
              "#46039f"
             ],
             [
              0.2222222222222222,
              "#7201a8"
             ],
             [
              0.3333333333333333,
              "#9c179e"
             ],
             [
              0.4444444444444444,
              "#bd3786"
             ],
             [
              0.5555555555555556,
              "#d8576b"
             ],
             [
              0.6666666666666666,
              "#ed7953"
             ],
             [
              0.7777777777777778,
              "#fb9f3a"
             ],
             [
              0.8888888888888888,
              "#fdca26"
             ],
             [
              1,
              "#f0f921"
             ]
            ],
            "type": "contour"
           }
          ],
          "contourcarpet": [
           {
            "colorbar": {
             "outlinewidth": 0,
             "ticks": ""
            },
            "type": "contourcarpet"
           }
          ],
          "heatmap": [
           {
            "colorbar": {
             "outlinewidth": 0,
             "ticks": ""
            },
            "colorscale": [
             [
              0,
              "#0d0887"
             ],
             [
              0.1111111111111111,
              "#46039f"
             ],
             [
              0.2222222222222222,
              "#7201a8"
             ],
             [
              0.3333333333333333,
              "#9c179e"
             ],
             [
              0.4444444444444444,
              "#bd3786"
             ],
             [
              0.5555555555555556,
              "#d8576b"
             ],
             [
              0.6666666666666666,
              "#ed7953"
             ],
             [
              0.7777777777777778,
              "#fb9f3a"
             ],
             [
              0.8888888888888888,
              "#fdca26"
             ],
             [
              1,
              "#f0f921"
             ]
            ],
            "type": "heatmap"
           }
          ],
          "histogram": [
           {
            "marker": {
             "pattern": {
              "fillmode": "overlay",
              "size": 10,
              "solidity": 0.2
             }
            },
            "type": "histogram"
           }
          ],
          "histogram2d": [
           {
            "colorbar": {
             "outlinewidth": 0,
             "ticks": ""
            },
            "colorscale": [
             [
              0,
              "#0d0887"
             ],
             [
              0.1111111111111111,
              "#46039f"
             ],
             [
              0.2222222222222222,
              "#7201a8"
             ],
             [
              0.3333333333333333,
              "#9c179e"
             ],
             [
              0.4444444444444444,
              "#bd3786"
             ],
             [
              0.5555555555555556,
              "#d8576b"
             ],
             [
              0.6666666666666666,
              "#ed7953"
             ],
             [
              0.7777777777777778,
              "#fb9f3a"
             ],
             [
              0.8888888888888888,
              "#fdca26"
             ],
             [
              1,
              "#f0f921"
             ]
            ],
            "type": "histogram2d"
           }
          ],
          "histogram2dcontour": [
           {
            "colorbar": {
             "outlinewidth": 0,
             "ticks": ""
            },
            "colorscale": [
             [
              0,
              "#0d0887"
             ],
             [
              0.1111111111111111,
              "#46039f"
             ],
             [
              0.2222222222222222,
              "#7201a8"
             ],
             [
              0.3333333333333333,
              "#9c179e"
             ],
             [
              0.4444444444444444,
              "#bd3786"
             ],
             [
              0.5555555555555556,
              "#d8576b"
             ],
             [
              0.6666666666666666,
              "#ed7953"
             ],
             [
              0.7777777777777778,
              "#fb9f3a"
             ],
             [
              0.8888888888888888,
              "#fdca26"
             ],
             [
              1,
              "#f0f921"
             ]
            ],
            "type": "histogram2dcontour"
           }
          ],
          "mesh3d": [
           {
            "colorbar": {
             "outlinewidth": 0,
             "ticks": ""
            },
            "type": "mesh3d"
           }
          ],
          "parcoords": [
           {
            "line": {
             "colorbar": {
              "outlinewidth": 0,
              "ticks": ""
             }
            },
            "type": "parcoords"
           }
          ],
          "pie": [
           {
            "automargin": true,
            "type": "pie"
           }
          ],
          "scatter": [
           {
            "fillpattern": {
             "fillmode": "overlay",
             "size": 10,
             "solidity": 0.2
            },
            "type": "scatter"
           }
          ],
          "scatter3d": [
           {
            "line": {
             "colorbar": {
              "outlinewidth": 0,
              "ticks": ""
             }
            },
            "marker": {
             "colorbar": {
              "outlinewidth": 0,
              "ticks": ""
             }
            },
            "type": "scatter3d"
           }
          ],
          "scattercarpet": [
           {
            "marker": {
             "colorbar": {
              "outlinewidth": 0,
              "ticks": ""
             }
            },
            "type": "scattercarpet"
           }
          ],
          "scattergeo": [
           {
            "marker": {
             "colorbar": {
              "outlinewidth": 0,
              "ticks": ""
             }
            },
            "type": "scattergeo"
           }
          ],
          "scattergl": [
           {
            "marker": {
             "colorbar": {
              "outlinewidth": 0,
              "ticks": ""
             }
            },
            "type": "scattergl"
           }
          ],
          "scattermap": [
           {
            "marker": {
             "colorbar": {
              "outlinewidth": 0,
              "ticks": ""
             }
            },
            "type": "scattermap"
           }
          ],
          "scattermapbox": [
           {
            "marker": {
             "colorbar": {
              "outlinewidth": 0,
              "ticks": ""
             }
            },
            "type": "scattermapbox"
           }
          ],
          "scatterpolar": [
           {
            "marker": {
             "colorbar": {
              "outlinewidth": 0,
              "ticks": ""
             }
            },
            "type": "scatterpolar"
           }
          ],
          "scatterpolargl": [
           {
            "marker": {
             "colorbar": {
              "outlinewidth": 0,
              "ticks": ""
             }
            },
            "type": "scatterpolargl"
           }
          ],
          "scatterternary": [
           {
            "marker": {
             "colorbar": {
              "outlinewidth": 0,
              "ticks": ""
             }
            },
            "type": "scatterternary"
           }
          ],
          "surface": [
           {
            "colorbar": {
             "outlinewidth": 0,
             "ticks": ""
            },
            "colorscale": [
             [
              0,
              "#0d0887"
             ],
             [
              0.1111111111111111,
              "#46039f"
             ],
             [
              0.2222222222222222,
              "#7201a8"
             ],
             [
              0.3333333333333333,
              "#9c179e"
             ],
             [
              0.4444444444444444,
              "#bd3786"
             ],
             [
              0.5555555555555556,
              "#d8576b"
             ],
             [
              0.6666666666666666,
              "#ed7953"
             ],
             [
              0.7777777777777778,
              "#fb9f3a"
             ],
             [
              0.8888888888888888,
              "#fdca26"
             ],
             [
              1,
              "#f0f921"
             ]
            ],
            "type": "surface"
           }
          ],
          "table": [
           {
            "cells": {
             "fill": {
              "color": "#EBF0F8"
             },
             "line": {
              "color": "white"
             }
            },
            "header": {
             "fill": {
              "color": "#C8D4E3"
             },
             "line": {
              "color": "white"
             }
            },
            "type": "table"
           }
          ]
         },
         "layout": {
          "annotationdefaults": {
           "arrowcolor": "#2a3f5f",
           "arrowhead": 0,
           "arrowwidth": 1
          },
          "autotypenumbers": "strict",
          "coloraxis": {
           "colorbar": {
            "outlinewidth": 0,
            "ticks": ""
           }
          },
          "colorscale": {
           "diverging": [
            [
             0,
             "#8e0152"
            ],
            [
             0.1,
             "#c51b7d"
            ],
            [
             0.2,
             "#de77ae"
            ],
            [
             0.3,
             "#f1b6da"
            ],
            [
             0.4,
             "#fde0ef"
            ],
            [
             0.5,
             "#f7f7f7"
            ],
            [
             0.6,
             "#e6f5d0"
            ],
            [
             0.7,
             "#b8e186"
            ],
            [
             0.8,
             "#7fbc41"
            ],
            [
             0.9,
             "#4d9221"
            ],
            [
             1,
             "#276419"
            ]
           ],
           "sequential": [
            [
             0,
             "#0d0887"
            ],
            [
             0.1111111111111111,
             "#46039f"
            ],
            [
             0.2222222222222222,
             "#7201a8"
            ],
            [
             0.3333333333333333,
             "#9c179e"
            ],
            [
             0.4444444444444444,
             "#bd3786"
            ],
            [
             0.5555555555555556,
             "#d8576b"
            ],
            [
             0.6666666666666666,
             "#ed7953"
            ],
            [
             0.7777777777777778,
             "#fb9f3a"
            ],
            [
             0.8888888888888888,
             "#fdca26"
            ],
            [
             1,
             "#f0f921"
            ]
           ],
           "sequentialminus": [
            [
             0,
             "#0d0887"
            ],
            [
             0.1111111111111111,
             "#46039f"
            ],
            [
             0.2222222222222222,
             "#7201a8"
            ],
            [
             0.3333333333333333,
             "#9c179e"
            ],
            [
             0.4444444444444444,
             "#bd3786"
            ],
            [
             0.5555555555555556,
             "#d8576b"
            ],
            [
             0.6666666666666666,
             "#ed7953"
            ],
            [
             0.7777777777777778,
             "#fb9f3a"
            ],
            [
             0.8888888888888888,
             "#fdca26"
            ],
            [
             1,
             "#f0f921"
            ]
           ]
          },
          "colorway": [
           "#636efa",
           "#EF553B",
           "#00cc96",
           "#ab63fa",
           "#FFA15A",
           "#19d3f3",
           "#FF6692",
           "#B6E880",
           "#FF97FF",
           "#FECB52"
          ],
          "font": {
           "color": "#2a3f5f"
          },
          "geo": {
           "bgcolor": "white",
           "lakecolor": "white",
           "landcolor": "#E5ECF6",
           "showlakes": true,
           "showland": true,
           "subunitcolor": "white"
          },
          "hoverlabel": {
           "align": "left"
          },
          "hovermode": "closest",
          "mapbox": {
           "style": "light"
          },
          "paper_bgcolor": "white",
          "plot_bgcolor": "#E5ECF6",
          "polar": {
           "angularaxis": {
            "gridcolor": "white",
            "linecolor": "white",
            "ticks": ""
           },
           "bgcolor": "#E5ECF6",
           "radialaxis": {
            "gridcolor": "white",
            "linecolor": "white",
            "ticks": ""
           }
          },
          "scene": {
           "xaxis": {
            "backgroundcolor": "#E5ECF6",
            "gridcolor": "white",
            "gridwidth": 2,
            "linecolor": "white",
            "showbackground": true,
            "ticks": "",
            "zerolinecolor": "white"
           },
           "yaxis": {
            "backgroundcolor": "#E5ECF6",
            "gridcolor": "white",
            "gridwidth": 2,
            "linecolor": "white",
            "showbackground": true,
            "ticks": "",
            "zerolinecolor": "white"
           },
           "zaxis": {
            "backgroundcolor": "#E5ECF6",
            "gridcolor": "white",
            "gridwidth": 2,
            "linecolor": "white",
            "showbackground": true,
            "ticks": "",
            "zerolinecolor": "white"
           }
          },
          "shapedefaults": {
           "line": {
            "color": "#2a3f5f"
           }
          },
          "ternary": {
           "aaxis": {
            "gridcolor": "white",
            "linecolor": "white",
            "ticks": ""
           },
           "baxis": {
            "gridcolor": "white",
            "linecolor": "white",
            "ticks": ""
           },
           "bgcolor": "#E5ECF6",
           "caxis": {
            "gridcolor": "white",
            "linecolor": "white",
            "ticks": ""
           }
          },
          "title": {
           "x": 0.05
          },
          "xaxis": {
           "automargin": true,
           "gridcolor": "white",
           "linecolor": "white",
           "ticks": "",
           "title": {
            "standoff": 15
           },
           "zerolinecolor": "white",
           "zerolinewidth": 2
          },
          "yaxis": {
           "automargin": true,
           "gridcolor": "white",
           "linecolor": "white",
           "ticks": "",
           "title": {
            "standoff": 15
           },
           "zerolinecolor": "white",
           "zerolinewidth": 2
          }
         }
        },
        "title": {
         "text": "Feature Importance Comparison Across Methods"
        },
        "xaxis": {
         "anchor": "y",
         "domain": [
          0,
          1
         ],
         "tickangle": 45,
         "title": {
          "text": "Features"
         }
        },
        "yaxis": {
         "anchor": "x",
         "domain": [
          0,
          1
         ],
         "title": {
          "text": "Importance Score"
         }
        }
       }
      }
     },
     "metadata": {},
     "output_type": "display_data"
    }
   ],
   "source": [
    "# Create interactive visualization (if plotly available) or static alternative\n",
    "def create_interactive_importance_plot(importance_dict, top_n=15):\n",
    "    # Prepare data for plotting\n",
    "    plot_data = []\n",
    "    for method, importance in importance_dict.items():\n",
    "        top_features = importance.head(top_n)\n",
    "        for i, (feature, score) in enumerate(top_features.items()):\n",
    "            plot_data.append({\n",
    "                'Method': method,\n",
    "                'Feature': feature,\n",
    "                'Importance': score,\n",
    "                'Rank': i + 1\n",
    "            })\n",
    "    \n",
    "    df_plot = pd.DataFrame(plot_data)\n",
    "    \n",
    "    if plotly_available:\n",
    "        # Create interactive bar plot with plotly\n",
    "        fig = px.bar(df_plot, x='Feature', y='Importance', color='Method',\n",
    "                     title='Feature Importance Comparison Across Methods',\n",
    "                     barmode='group', height=600)\n",
    "        \n",
    "        fig.update_xaxes(tickangle=45)\n",
    "        fig.update_layout(\n",
    "            xaxis_title=\"Features\",\n",
    "            yaxis_title=\"Importance Score\",\n",
    "            legend_title=\"Method\"\n",
    "        )\n",
    "        \n",
    "        fig.show()\n",
    "    else:\n",
    "        # Create static alternative with matplotlib\n",
    "        methods = df_plot['Method'].unique()\n",
    "        n_methods = len(methods)\n",
    "        \n",
    "        fig, ax = plt.subplots(figsize=(15, 8))\n",
    "        \n",
    "        # Create grouped bar chart\n",
    "        x_pos = np.arange(top_n)\n",
    "        bar_width = 0.8 / n_methods\n",
    "        \n",
    "        for i, method in enumerate(methods):\n",
    "            method_data = df_plot[df_plot['Method'] == method].head(top_n)\n",
    "            offset = (i - n_methods/2) * bar_width + bar_width/2\n",
    "            \n",
    "            ax.bar(x_pos + offset, method_data['Importance'], \n",
    "                   bar_width, label=method, alpha=0.8)\n",
    "        \n",
    "        ax.set_xlabel('Features')\n",
    "        ax.set_ylabel('Importance Score')\n",
    "        ax.set_title('Feature Importance Comparison Across Methods')\n",
    "        ax.set_xticks(x_pos)\n",
    "        ax.set_xticklabels(df_plot[df_plot['Method'] == methods[0]].head(top_n)['Feature'], \n",
    "                          rotation=45, ha='right')\n",
    "        ax.legend()\n",
    "        \n",
    "        plt.tight_layout()\n",
    "        plt.show()\n",
    "\n",
    "create_interactive_importance_plot(all_importance, top_n=12)"
   ]
  },
  {
   "cell_type": "markdown",
   "id": "ffec9ae8",
   "metadata": {},
   "source": [
    "## 9. Generate SHAP Summary Plots"
   ]
  },
  {
   "cell_type": "code",
   "execution_count": null,
   "id": "ae23668f",
   "metadata": {},
   "outputs": [
    {
     "name": "stdout",
     "output_type": "stream",
     "text": [
      "SHAP visualizations skipped.\n",
      "Reason: SHAP library not available\n",
      "\n",
      "🔄 Alternative: Using tree-based feature importance and permutation importance\n",
      "These methods provide similar insights into feature importance for churn prediction.\n"
     ]
    }
   ],
   "source": [
    "# SHAP Visualizations (only if SHAP is available and values computed)\n",
    "if shap_available and 'Random Forest' in shap_values:\n",
    "    try:\n",
    "        print(\"Generating SHAP visualizations...\")\n",
    "        \n",
    "        # Get the sample data used for SHAP\n",
    "        if hasattr(X_test_processed, 'toarray'):\n",
    "            X_sample = X_test_processed[sample_idx].toarray()\n",
    "        else:\n",
    "            X_sample = X_test_processed[sample_idx]\n",
    "        \n",
    "        # Ensure proper format for visualizations\n",
    "        shap_vals = shap_values['Random Forest']\n",
    "        \n",
    "        # Summary plot\n",
    "        plt.figure(figsize=(12, 8))\n",
    "        try:\n",
    "            shap.summary_plot(shap_vals, X_sample, \n",
    "                             feature_names=feature_names[:shap_vals.shape[1]], \n",
    "                             show=False, max_display=20)\n",
    "            plt.title('SHAP Summary Plot - Feature Impact on Churn Prediction')\n",
    "            plt.tight_layout()\n",
    "            plt.show()\n",
    "        except Exception as e:\n",
    "            print(f\"SHAP summary plot failed: {e}\")\n",
    "        \n",
    "        # Bar plot of feature importance\n",
    "        plt.figure(figsize=(10, 6))\n",
    "        try:\n",
    "            shap.summary_plot(shap_vals, X_sample,\n",
    "                             feature_names=feature_names[:shap_vals.shape[1]], \n",
    "                             plot_type=\"bar\", show=False, max_display=15)\n",
    "            plt.title('SHAP Feature Importance')\n",
    "            plt.tight_layout()\n",
    "            plt.show()\n",
    "        except Exception as e:\n",
    "            print(f\"SHAP bar plot failed: {e}\")\n",
    "        \n",
    "        # Waterfall plot for a single prediction\n",
    "        if len(X_sample) > 0 and shap_vals.shape[0] > 0:\n",
    "            plt.figure(figsize=(10, 8))\n",
    "            try:\n",
    "                # Use newer SHAP API if available\n",
    "                if hasattr(shap, 'Explanation'):\n",
    "                    explanation = shap.Explanation(\n",
    "                        values=shap_vals[0], \n",
    "                        base_values=explainer.expected_value if hasattr(explainer, 'expected_value') else 0,\n",
    "                        feature_names=feature_names[:shap_vals.shape[1]]\n",
    "                    )\n",
    "                    shap.waterfall_plot(explanation, max_display=15, show=False)\n",
    "                else:\n",
    "                    # Fallback for older SHAP versions\n",
    "                    expected_val = explainer.expected_value[1] if isinstance(explainer.expected_value, (list, np.ndarray)) else explainer.expected_value\n",
    "                    shap.waterfall_plot(expected_val, shap_vals[0], X_sample[0], \n",
    "                                       feature_names=feature_names[:shap_vals.shape[1]], \n",
    "                                       max_display=15, show=False)\n",
    "                \n",
    "                plt.title('SHAP Waterfall Plot - Individual Prediction Explanation')\n",
    "                plt.tight_layout()\n",
    "                plt.show()\n",
    "            except Exception as e:\n",
    "                print(f\"SHAP waterfall plot failed: {e}\")\n",
    "                print(\"Skipping waterfall plot...\")\n",
    "            \n",
    "    except Exception as e:\n",
    "        print(f\"SHAP visualization failed with error: {e}\")\n",
    "        print(\"Continuing with other analyses...\")\n",
    "\n",
    "else:\n",
    "    print(\"SHAP visualizations skipped.\")\n",
    "    if not shap_available:\n",
    "        print(\"Reason: SHAP library not available\")\n",
    "    elif 'Random Forest' not in shap_values:\n",
    "        print(\"Reason: SHAP values not computed successfully\")\n",
    "    \n",
    "    print(\"\\n🔄 Alternative: Using tree-based feature importance and permutation importance\")\n",
    "    print(\"These methods provide similar insights into feature importance for churn prediction.\")"
   ]
  },
  {
   "cell_type": "markdown",
   "id": "82f45bb6",
   "metadata": {},
   "source": [
    "## 10. Analyze Feature Interactions"
   ]
  },
  {
   "cell_type": "code",
   "execution_count": 13,
   "id": "86bf5e1e",
   "metadata": {},
   "outputs": [
    {
     "data": {
      "image/png": "[encoded data removed]",
      "text/plain": [
       "<Figure size 1200x1000 with 2 Axes>"
      ]
     },
     "metadata": {},
     "output_type": "display_data"
    },
    {
     "name": "stdout",
     "output_type": "stream",
     "text": [
      "\n",
      "Highly Correlated Feature Pairs (|correlation| > 0.7):\n",
      "tenure <-> totalcharges: 0.829\n"
     ]
    }
   ],
   "source": [
    "# Analyze feature correlations and interactions\n",
    "def analyze_feature_interactions():\n",
    "    # Create correlation matrix for top features\n",
    "    top_features_set = set()\n",
    "    for importance in all_importance.values():\n",
    "        top_features_set.update(importance.head(10).index)\n",
    "    \n",
    "    # Find these features in the original processed data\n",
    "    correlation_data = []\n",
    "    feature_subset = []\n",
    "    \n",
    "    for feature in top_features_set:\n",
    "        if feature in X_train.columns:\n",
    "            feature_subset.append(feature)\n",
    "            correlation_data.append(X_train[feature])\n",
    "    \n",
    "    if correlation_data:\n",
    "        corr_df = pd.DataFrame(dict(zip(feature_subset, correlation_data)))\n",
    "        correlation_matrix = corr_df.corr()\n",
    "        \n",
    "        # Plot correlation heatmap\n",
    "        plt.figure(figsize=(12, 10))\n",
    "        mask = np.triu(correlation_matrix.corr())\n",
    "        sns.heatmap(correlation_matrix, annot=True, cmap='coolwarm', center=0,\n",
    "                   mask=mask, square=True, fmt='.2f')\n",
    "        plt.title('Feature Correlation Matrix - Top Important Features')\n",
    "        plt.tight_layout()\n",
    "        plt.show()\n",
    "        \n",
    "        return correlation_matrix\n",
    "    \n",
    "    return None\n",
    "\n",
    "correlation_matrix = analyze_feature_interactions()\n",
    "\n",
    "# Identify highly correlated feature pairs\n",
    "if correlation_matrix is not None:\n",
    "    print(\"\\nHighly Correlated Feature Pairs (|correlation| > 0.7):\")\n",
    "    corr_pairs = []\n",
    "    for i in range(len(correlation_matrix.columns)):\n",
    "        for j in range(i+1, len(correlation_matrix.columns)):\n",
    "            corr_val = correlation_matrix.iloc[i, j]\n",
    "            if abs(corr_val) > 0.7:\n",
    "                corr_pairs.append((\n",
    "                    correlation_matrix.columns[i], \n",
    "                    correlation_matrix.columns[j], \n",
    "                    corr_val\n",
    "                ))\n",
    "    \n",
    "    for feat1, feat2, corr in sorted(corr_pairs, key=lambda x: abs(x[2]), reverse=True):\n",
    "        print(f\"{feat1} <-> {feat2}: {corr:.3f}\")"
   ]
  },
  {
   "cell_type": "markdown",
   "id": "fb026b89",
   "metadata": {},
   "source": [
    "## 11. Statistical Significance Testing"
   ]
  },
  {
   "cell_type": "code",
   "execution_count": 14,
   "id": "7e01d0b8",
   "metadata": {},
   "outputs": [
    {
     "name": "stdout",
     "output_type": "stream",
     "text": [
      "Performing statistical significance tests...\n",
      "\n",
      "Statistical Significance Results (α = 0.05):\n",
      "Total features tested: 30\n",
      "Significant features: 27\n",
      "Non-significant features: 3\n",
      "\n",
      "Top 15 Most Statistically Significant Features:\n",
      "                             Feature  Test_Type       P_Value\n",
      "                              tenure     t-test 8.634920e-158\n",
      "         internetservice_Fiber optic chi-square 1.769288e-121\n",
      "      paymentmethod_Electronic check chi-square 7.653910e-119\n",
      "                   contract_Two year chi-square 1.442843e-113\n",
      "deviceprotection_No internet service chi-square  6.648415e-66\n",
      "    onlinebackup_No internet service chi-square  6.648415e-66\n",
      "  onlinesecurity_No internet service chi-square  6.648415e-66\n",
      "     techsupport_No internet service chi-square  6.648415e-66\n",
      "     streamingtv_No internet service chi-square  6.648415e-66\n",
      " streamingmovies_No internet service chi-square  6.648415e-66\n",
      "                  internetservice_No chi-square  6.648415e-66\n",
      "                      monthlycharges     t-test  6.266598e-51\n",
      "                paperlessbilling_Yes chi-square  9.403694e-50\n",
      "                        totalcharges     t-test  4.174892e-49\n",
      "                   contract_One year chi-square  3.842478e-41\n",
      "\n",
      "Statistical Significance Results (α = 0.05):\n",
      "Total features tested: 30\n",
      "Significant features: 27\n",
      "Non-significant features: 3\n",
      "\n",
      "Top 15 Most Statistically Significant Features:\n",
      "                             Feature  Test_Type       P_Value\n",
      "                              tenure     t-test 8.634920e-158\n",
      "         internetservice_Fiber optic chi-square 1.769288e-121\n",
      "      paymentmethod_Electronic check chi-square 7.653910e-119\n",
      "                   contract_Two year chi-square 1.442843e-113\n",
      "deviceprotection_No internet service chi-square  6.648415e-66\n",
      "    onlinebackup_No internet service chi-square  6.648415e-66\n",
      "  onlinesecurity_No internet service chi-square  6.648415e-66\n",
      "     techsupport_No internet service chi-square  6.648415e-66\n",
      "     streamingtv_No internet service chi-square  6.648415e-66\n",
      " streamingmovies_No internet service chi-square  6.648415e-66\n",
      "                  internetservice_No chi-square  6.648415e-66\n",
      "                      monthlycharges     t-test  6.266598e-51\n",
      "                paperlessbilling_Yes chi-square  9.403694e-50\n",
      "                        totalcharges     t-test  4.174892e-49\n",
      "                   contract_One year chi-square  3.842478e-41\n"
     ]
    }
   ],
   "source": [
    "# Statistical significance testing for feature importance\n",
    "def test_feature_significance(X, y, feature_names, alpha=0.05):\n",
    "    \"\"\"Test statistical significance of features\"\"\"\n",
    "    significance_results = []\n",
    "    \n",
    "    for i, feature_name in enumerate(feature_names):\n",
    "        if i < X.shape[1]:  # Ensure we don't exceed the number of features\n",
    "            feature_values = X[:, i]\n",
    "            \n",
    "            # For numerical features, use t-test\n",
    "            if len(np.unique(feature_values)) > 10:\n",
    "                # Split by target class\n",
    "                class_0 = feature_values[y == 0]\n",
    "                class_1 = feature_values[y == 1]\n",
    "                \n",
    "                if len(class_0) > 1 and len(class_1) > 1:\n",
    "                    t_stat, p_value = stats.ttest_ind(class_0, class_1)\n",
    "                    test_type = \"t-test\"\n",
    "                else:\n",
    "                    t_stat, p_value = np.nan, 1.0\n",
    "                    test_type = \"t-test (insufficient data)\"\n",
    "            else:\n",
    "                # For categorical features, use chi-square test\n",
    "                try:\n",
    "                    contingency_table = pd.crosstab(feature_values, y)\n",
    "                    chi2_stat, p_value, _, _ = chi2_contingency(contingency_table)\n",
    "                    t_stat = chi2_stat\n",
    "                    test_type = \"chi-square\"\n",
    "                except:\n",
    "                    t_stat, p_value = np.nan, 1.0\n",
    "                    test_type = \"chi-square (failed)\"\n",
    "            \n",
    "            significance_results.append({\n",
    "                'Feature': feature_name,\n",
    "                'Test_Type': test_type,\n",
    "                'Statistic': t_stat,\n",
    "                'P_Value': p_value,\n",
    "                'Significant': p_value < alpha if not np.isnan(p_value) else False\n",
    "            })\n",
    "    \n",
    "    return pd.DataFrame(significance_results)\n",
    "\n",
    "# Perform significance testing\n",
    "print(\"Performing statistical significance tests...\")\n",
    "significance_df = test_feature_significance(X_train_processed, y_train, feature_names)\n",
    "\n",
    "# Display results\n",
    "print(f\"\\nStatistical Significance Results (α = 0.05):\")\n",
    "print(f\"Total features tested: {len(significance_df)}\")\n",
    "print(f\"Significant features: {significance_df['Significant'].sum()}\")\n",
    "print(f\"Non-significant features: {(~significance_df['Significant']).sum()}\")\n",
    "\n",
    "# Show most significant features\n",
    "significant_features = significance_df[significance_df['Significant']].sort_values('P_Value')\n",
    "print(f\"\\nTop 15 Most Statistically Significant Features:\")\n",
    "print(significant_features.head(15)[['Feature', 'Test_Type', 'P_Value']].to_string(index=False))"
   ]
  },
  {
   "cell_type": "markdown",
   "id": "ea0e3dc7",
   "metadata": {},
   "source": [
    "## 12. Feature Importance Results Summary and Conclusions"
   ]
  },
  {
   "cell_type": "code",
   "execution_count": 15,
   "id": "31af4a22",
   "metadata": {},
   "outputs": [
    {
     "name": "stdout",
     "output_type": "stream",
     "text": [
      "🎯 CONSOLIDATED FEATURE IMPORTANCE RANKINGS\n",
      "============================================================\n",
      "Top 20 Most Important Features (by average rank across all methods):\n",
      "\n",
      " 1. tenure\n",
      "    Average Rank: 1.0\n",
      "    Best Rank: 1, Worst Rank: 1\n",
      "    Appears in top-20 of 5.0 methods\n",
      "\n",
      " 2. internetservice_Fiber optic\n",
      "    Average Rank: 3.4\n",
      "    Best Rank: 2, Worst Rank: 5\n",
      "    Appears in top-20 of 5.0 methods\n",
      "\n",
      " 3. contract_Two year\n",
      "    Average Rank: 4.0\n",
      "    Best Rank: 2, Worst Rank: 5\n",
      "    Appears in top-20 of 5.0 methods\n",
      "\n",
      " 4. paymentmethod_Electronic check\n",
      "    Average Rank: 5.8\n",
      "    Best Rank: 3, Worst Rank: 11\n",
      "    Appears in top-20 of 5.0 methods\n",
      "\n",
      " 5. totalcharges\n",
      "    Average Rank: 7.0\n",
      "    Best Rank: 3, Worst Rank: 14\n",
      "    Appears in top-20 of 5.0 methods\n",
      "\n",
      " 6. techsupport_No internet service\n",
      "    Average Rank: 9.2\n",
      "    Best Rank: 5, Worst Rank: 15\n",
      "    Appears in top-20 of 5.0 methods\n",
      "\n",
      " 7. monthlycharges\n",
      "    Average Rank: 9.8\n",
      "    Best Rank: 2, Worst Rank: 30\n",
      "    Appears in top-20 of 4.0 methods\n",
      "\n",
      " 8. deviceprotection_No internet service\n",
      "    Average Rank: 10.6\n",
      "    Best Rank: 5, Worst Rank: 24\n",
      "    Appears in top-20 of 4.0 methods\n",
      "\n",
      " 9. onlinesecurity_Yes\n",
      "    Average Rank: 10.8\n",
      "    Best Rank: 5, Worst Rank: 16\n",
      "    Appears in top-20 of 5.0 methods\n",
      "\n",
      "10. internetservice_No\n",
      "    Average Rank: 11.2\n",
      "    Best Rank: 5, Worst Rank: 19\n",
      "    Appears in top-20 of 5.0 methods\n",
      "\n",
      "11. streamingtv_No internet service\n",
      "    Average Rank: 11.2\n",
      "    Best Rank: 5, Worst Rank: 19\n",
      "    Appears in top-20 of 5.0 methods\n",
      "\n",
      "12. streamingmovies_No internet service\n",
      "    Average Rank: 11.6\n",
      "    Best Rank: 5, Worst Rank: 21\n",
      "    Appears in top-20 of 4.0 methods\n",
      "\n",
      "13. contract_One year\n",
      "    Average Rank: 12.2\n",
      "    Best Rank: 5, Worst Rank: 17\n",
      "    Appears in top-20 of 5.0 methods\n",
      "\n",
      "14. paperlessbilling_Yes\n",
      "    Average Rank: 12.2\n",
      "    Best Rank: 5, Worst Rank: 20\n",
      "    Appears in top-20 of 5.0 methods\n",
      "\n",
      "15. seniorcitizen\n",
      "    Average Rank: 12.4\n",
      "    Best Rank: 3, Worst Rank: 23\n",
      "    Appears in top-20 of 4.0 methods\n",
      "\n",
      "16. onlinebackup_No internet service\n",
      "    Average Rank: 12.6\n",
      "    Best Rank: 5, Worst Rank: 25\n",
      "    Appears in top-20 of 4.0 methods\n",
      "\n",
      "17. onlinesecurity_No internet service\n",
      "    Average Rank: 12.8\n",
      "    Best Rank: 5, Worst Rank: 26\n",
      "    Appears in top-20 of 4.0 methods\n",
      "\n",
      "18. techsupport_Yes\n",
      "    Average Rank: 13.0\n",
      "    Best Rank: 5, Worst Rank: 19\n",
      "    Appears in top-20 of 5.0 methods\n",
      "\n",
      "19. dependents_Yes\n",
      "    Average Rank: 14.6\n",
      "    Best Rank: 5, Worst Rank: 21\n",
      "    Appears in top-20 of 4.0 methods\n",
      "\n",
      "20. partner_Yes\n",
      "    Average Rank: 15.2\n",
      "    Best Rank: 5, Worst Rank: 24\n",
      "    Appears in top-20 of 3.0 methods\n",
      "\n"
     ]
    }
   ],
   "source": [
    "# Consolidate and rank features across all methods\n",
    "def consolidate_feature_rankings(importance_dict, top_n=20):\n",
    "    \"\"\"Consolidate feature rankings across all methods\"\"\"\n",
    "    \n",
    "    # Get all unique features\n",
    "    all_features = set()\n",
    "    for importance in importance_dict.values():\n",
    "        all_features.update(importance.index)\n",
    "    \n",
    "    # Calculate average rank for each feature\n",
    "    feature_rankings = {}\n",
    "    \n",
    "    for feature in all_features:\n",
    "        ranks = []\n",
    "        scores = []\n",
    "        \n",
    "        for method, importance in importance_dict.items():\n",
    "            if feature in importance.index:\n",
    "                rank = list(importance.index).index(feature) + 1\n",
    "                ranks.append(rank)\n",
    "                scores.append(importance[feature])\n",
    "            else:\n",
    "                ranks.append(len(importance) + 1)  # Assign worst rank if not present\n",
    "                scores.append(0)\n",
    "        \n",
    "        feature_rankings[feature] = {\n",
    "            'avg_rank': np.mean(ranks),\n",
    "            'min_rank': np.min(ranks),\n",
    "            'max_rank': np.max(ranks),\n",
    "            'avg_score': np.mean(scores),\n",
    "            'std_rank': np.std(ranks),\n",
    "            'methods_count': len([r for r in ranks if r <= top_n])\n",
    "        }\n",
    "    \n",
    "    # Convert to DataFrame\n",
    "    ranking_df = pd.DataFrame.from_dict(feature_rankings, orient='index')\n",
    "    ranking_df = ranking_df.sort_values('avg_rank')\n",
    "    \n",
    "    return ranking_df\n",
    "\n",
    "# Consolidate rankings\n",
    "consolidated_rankings = consolidate_feature_rankings(all_importance, top_n=20)\n",
    "\n",
    "print(\"🎯 CONSOLIDATED FEATURE IMPORTANCE RANKINGS\")\n",
    "print(\"=\" * 60)\n",
    "print(f\"Top 20 Most Important Features (by average rank across all methods):\")\n",
    "print()\n",
    "\n",
    "top_features = consolidated_rankings.head(20)\n",
    "for i, (feature, row) in enumerate(top_features.iterrows(), 1):\n",
    "    print(f\"{i:2d}. {feature}\")\n",
    "    print(f\"    Average Rank: {row['avg_rank']:.1f}\")\n",
    "    print(f\"    Best Rank: {row['min_rank']:.0f}, Worst Rank: {row['max_rank']:.0f}\")\n",
    "    print(f\"    Appears in top-20 of {row['methods_count']} methods\")\n",
    "    print()"
   ]
  },
  {
   "cell_type": "markdown",
   "id": "eb8f850c",
   "metadata": {},
   "source": [
    "### Key Insights and Business Recommendations\n",
    "\n",
    "Based on the comprehensive feature importance analysis, here are the main findings and actionable recommendations:"
   ]
  },
  {
   "cell_type": "code",
   "execution_count": 16,
   "id": "2a364afe",
   "metadata": {},
   "outputs": [
    {
     "name": "stdout",
     "output_type": "stream",
     "text": [
      "📊 FEATURE IMPORTANCE ANALYSIS - KEY INSIGHTS\n",
      "=================================================================\n",
      "\n",
      "1. 🔥 TOP 5 MOST INFLUENTIAL FEATURES:\n",
      "   1. tenure (avg rank: 1.0)\n",
      "   2. internetservice_Fiber optic (avg rank: 3.4)\n",
      "   3. contract_Two year (avg rank: 4.0)\n",
      "   4. paymentmethod_Electronic check (avg rank: 5.8)\n",
      "   5. totalcharges (avg rank: 7.0)\n",
      "\n",
      "2. 🎯 MOST CONSISTENT FEATURES (across methods):\n",
      "   1. tenure (appears in 5.0 methods)\n",
      "   2. contract_Two year (appears in 5.0 methods)\n",
      "   3. internetservice_Fiber optic (appears in 5.0 methods)\n",
      "   4. paymentmethod_Electronic check (appears in 5.0 methods)\n",
      "   5. techsupport_No internet service (appears in 5.0 methods)\n",
      "\n",
      "3. 📈 STATISTICAL SIGNIFICANCE:\n",
      "   • 27/30 features are statistically significant (p < 0.05)\n",
      "   • Statistical significance rate: 90.0%\n",
      "\n",
      "4. 💡 BUSINESS RECOMMENDATIONS:\n",
      "   1. Focus on contract type optimization - offer incentives for longer-term contracts\n",
      "   2. Implement early customer engagement programs for new subscribers\n",
      "   3. Enhance service quality and expand service offerings\n",
      "   4. Streamline payment processes and offer flexible payment options\n",
      "   5. Review pricing strategy - consider personalized pricing models\n",
      "\n",
      "5. 🔍 METHODOLOGY INSIGHTS:\n",
      "   • Analysis used 5 different feature importance methods\n",
      "   • Tree-based methods show feature splits importance\n",
      "   • Permutation importance shows predictive value\n",
      "   • Correlation methods show linear relationships\n",
      "\n",
      "6. ⚠️  LIMITATIONS & CONSIDERATIONS:\n",
      "   • Feature importance varies by model type and data preprocessing\n",
      "   • Some methods may be biased toward certain feature types\n",
      "   • Business context should always inform feature selection\n",
      "   • Regular re-evaluation needed as data patterns change\n"
     ]
    }
   ],
   "source": [
    "# Generate final insights and recommendations\n",
    "def generate_insights(consolidated_rankings, significance_df):\n",
    "    \"\"\"Generate business insights from feature importance analysis\"\"\"\n",
    "    \n",
    "    print(\"📊 FEATURE IMPORTANCE ANALYSIS - KEY INSIGHTS\")\n",
    "    print(\"=\" * 65)\n",
    "    \n",
    "    # Top consistent features\n",
    "    top_5_features = consolidated_rankings.head(5).index.tolist()\n",
    "    print(f\"\\n1. 🔥 TOP 5 MOST INFLUENTIAL FEATURES:\")\n",
    "    for i, feature in enumerate(top_5_features, 1):\n",
    "        rank_info = consolidated_rankings.loc[feature]\n",
    "        print(f\"   {i}. {feature} (avg rank: {rank_info['avg_rank']:.1f})\")\n",
    "    \n",
    "    # Most consistent features (low standard deviation in rankings)\n",
    "    consistent_features = consolidated_rankings[\n",
    "        consolidated_rankings['methods_count'] >= 3\n",
    "    ].sort_values('std_rank').head(5)\n",
    "    \n",
    "    print(f\"\\n2. 🎯 MOST CONSISTENT FEATURES (across methods):\")\n",
    "    for i, (feature, row) in enumerate(consistent_features.iterrows(), 1):\n",
    "        print(f\"   {i}. {feature} (appears in {row['methods_count']} methods)\")\n",
    "    \n",
    "    # Statistical significance insights\n",
    "    if significance_df is not None:\n",
    "        sig_count = significance_df['Significant'].sum()\n",
    "        total_count = len(significance_df)\n",
    "        print(f\"\\n3. 📈 STATISTICAL SIGNIFICANCE:\")\n",
    "        print(f\"   • {sig_count}/{total_count} features are statistically significant (p < 0.05)\")\n",
    "        print(f\"   • Statistical significance rate: {sig_count/total_count:.1%}\")\n",
    "    \n",
    "    print(f\"\\n4. 💡 BUSINESS RECOMMENDATIONS:\")\n",
    "    \n",
    "    # Feature categories for recommendations\n",
    "    contract_features = [f for f in top_5_features if 'contract' in f.lower()]\n",
    "    tenure_features = [f for f in top_5_features if 'tenure' in f.lower()]\n",
    "    service_features = [f for f in top_5_features if any(s in f.lower() for s in ['service', 'internet', 'phone'])]\n",
    "    payment_features = [f for f in top_5_features if 'payment' in f.lower()]\n",
    "    charge_features = [f for f in top_5_features if any(s in f.lower() for s in ['charge', 'monthly', 'total'])]\n",
    "    \n",
    "    recommendations = []\n",
    "    \n",
    "    if contract_features:\n",
    "        recommendations.append(\"Focus on contract type optimization - offer incentives for longer-term contracts\")\n",
    "    \n",
    "    if tenure_features:\n",
    "        recommendations.append(\"Implement early customer engagement programs for new subscribers\")\n",
    "    \n",
    "    if service_features:\n",
    "        recommendations.append(\"Enhance service quality and expand service offerings\")\n",
    "    \n",
    "    if payment_features:\n",
    "        recommendations.append(\"Streamline payment processes and offer flexible payment options\")\n",
    "    \n",
    "    if charge_features:\n",
    "        recommendations.append(\"Review pricing strategy - consider personalized pricing models\")\n",
    "    \n",
    "    # Default recommendations if no specific patterns found\n",
    "    if not recommendations:\n",
    "        recommendations = [\n",
    "            \"Prioritize customer engagement based on top-ranked features\",\n",
    "            \"Develop targeted retention strategies for high-risk segments\",\n",
    "            \"Implement real-time monitoring for key churn indicators\"\n",
    "        ]\n",
    "    \n",
    "    for i, rec in enumerate(recommendations, 1):\n",
    "        print(f\"   {i}. {rec}\")\n",
    "    \n",
    "    print(f\"\\n5. 🔍 METHODOLOGY INSIGHTS:\")\n",
    "    method_count = len(all_importance)\n",
    "    print(f\"   • Analysis used {method_count} different feature importance methods\")\n",
    "    print(f\"   • Tree-based methods show feature splits importance\")\n",
    "    print(f\"   • Permutation importance shows predictive value\")\n",
    "    print(f\"   • Correlation methods show linear relationships\")\n",
    "    if shap_available:\n",
    "        print(f\"   • SHAP values provide local interpretability\")\n",
    "    \n",
    "    print(f\"\\n6. ⚠️  LIMITATIONS & CONSIDERATIONS:\")\n",
    "    print(f\"   • Feature importance varies by model type and data preprocessing\")\n",
    "    print(f\"   • Some methods may be biased toward certain feature types\")\n",
    "    print(f\"   • Business context should always inform feature selection\")\n",
    "    print(f\"   • Regular re-evaluation needed as data patterns change\")\n",
    "    \n",
    "    return {\n",
    "        'top_features': top_5_features,\n",
    "        'consistent_features': consistent_features.index.tolist(),\n",
    "        'recommendations': recommendations\n",
    "    }\n",
    "\n",
    "# Generate insights\n",
    "insights = generate_insights(consolidated_rankings, significance_df)"
   ]
  },
  {
   "cell_type": "code",
   "execution_count": 17,
   "id": "b6183bc2",
   "metadata": {},
   "outputs": [
    {
     "name": "stdout",
     "output_type": "stream",
     "text": [
      "💾 RESULTS SAVED:\n",
      "   📁 Output directory: C:\\Workspaces\\VScode\\Portfolio_Projects\\telco-customer-churn\\reports\\feature_importance\n",
      "   📄 Consolidated rankings: consolidated_feature_rankings.csv\n",
      "   📄 Individual method results: importance_*.csv\n",
      "   📄 Statistical significance: statistical_significance.csv\n",
      "\n",
      "✅ FEATURE IMPORTANCE ANALYSIS COMPLETE!\n",
      "   Total features analyzed: 30\n",
      "   Methods used: 5\n",
      "   Top feature: tenure\n",
      "   Analysis saved to: C:\\Workspaces\\VScode\\Portfolio_Projects\\telco-customer-churn\\reports\\feature_importance\n"
     ]
    }
   ],
   "source": [
    "# Save results to files\n",
    "output_dir = REPORTS_PATH / \"feature_importance\"\n",
    "output_dir.mkdir(exist_ok=True)\n",
    "\n",
    "# Save consolidated rankings\n",
    "consolidated_rankings.to_csv(output_dir / \"consolidated_feature_rankings.csv\")\n",
    "\n",
    "# Save individual method rankings\n",
    "for method, importance in all_importance.items():\n",
    "    filename = f\"importance_{method.lower().replace(' ', '_')}.csv\"\n",
    "    importance.to_csv(output_dir / filename)\n",
    "\n",
    "# Save significance results\n",
    "if significance_df is not None:\n",
    "    significance_df.to_csv(output_dir / \"statistical_significance.csv\", index=False)\n",
    "\n",
    "print(\"💾 RESULTS SAVED:\")\n",
    "print(f\"   📁 Output directory: {output_dir}\")\n",
    "print(f\"   📄 Consolidated rankings: consolidated_feature_rankings.csv\")\n",
    "print(f\"   📄 Individual method results: importance_*.csv\")\n",
    "print(f\"   📄 Statistical significance: statistical_significance.csv\")\n",
    "\n",
    "print(f\"\\n✅ FEATURE IMPORTANCE ANALYSIS COMPLETE!\")\n",
    "print(f\"   Total features analyzed: {len(consolidated_rankings)}\")\n",
    "print(f\"   Methods used: {len(all_importance)}\")\n",
    "print(f\"   Top feature: {consolidated_rankings.index[0]}\")\n",
    "print(f\"   Analysis saved to: {output_dir}\")"
   ]
  },
  {
   "cell_type": "markdown",
   "id": "feaa1e95",
   "metadata": {},
   "source": [
    "### Installation Notes\n",
    "\n",
    "If you want to install the optional libraries later, use these commands:\n",
    "\n",
    "```bash\n",
    "# Install Plotly for interactive visualizations\n",
    "pip install plotly\n",
    "\n",
    "# Install SHAP for advanced model interpretability\n",
    "pip install shap\n",
    "\n",
    "# Alternative lightweight installation\n",
    "pip install plotly-express  # Lighter version of plotly\n",
    "```\n",
    "\n",
    "**Note**: The analysis works perfectly without these libraries - they just provide additional visualization options and interpretability methods."
   ]
  }
 ],
 "metadata": {
  "kernelspec": {
   "display_name": "Python 3",
   "language": "python",
   "name": "python3"
  },
  "language_info": {
   "codemirror_mode": {
    "name": "ipython",
    "version": 3
   },
   "file_extension": ".py",
   "mimetype": "text/x-python",
   "name": "python",
   "nbconvert_exporter": "python",
   "pygments_lexer": "ipython3",
   "version": "3.13.5"
  }
 },
 "nbformat": 4,
 "nbformat_minor": 5
}
